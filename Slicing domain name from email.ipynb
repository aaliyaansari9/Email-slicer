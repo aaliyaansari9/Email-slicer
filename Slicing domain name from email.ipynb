{
 "cells": [
  {
   "cell_type": "code",
   "execution_count": null,
   "id": "85ddf51c-c85f-40b6-b353-c0762fc26392",
   "metadata": {},
   "outputs": [],
   "source": [
    "email = input('Enter email address:').strip()\n",
    "username = email[:email.index('@')]\n",
    "domain_name = email[email.index('@')+1:]\n",
    "print (\"Your user name is {} and your domain name is{}\".format(username,domain_name));\n"
   ]
  },
  {
   "cell_type": "code",
   "execution_count": null,
   "id": "48e0c801-d480-4f35-8f3e-7cb9abee4e50",
   "metadata": {},
   "outputs": [],
   "source": []
  }
 ],
 "metadata": {
  "kernelspec": {
   "display_name": "Python 3 (ipykernel)",
   "language": "python",
   "name": "python3"
  },
  "language_info": {
   "codemirror_mode": {
    "name": "ipython",
    "version": 3
   },
   "file_extension": ".py",
   "mimetype": "text/x-python",
   "name": "python",
   "nbconvert_exporter": "python",
   "pygments_lexer": "ipython3",
   "version": "3.12.6"
  }
 },
 "nbformat": 4,
 "nbformat_minor": 5
}
